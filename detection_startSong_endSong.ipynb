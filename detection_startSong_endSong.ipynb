{
  "nbformat": 4,
  "nbformat_minor": 0,
  "metadata": {
    "colab": {
      "name": "detection_startSong_endSong.ipynb",
      "version": "0.3.2",
      "provenance": [],
      "collapsed_sections": [],
      "include_colab_link": true
    },
    "kernelspec": {
      "name": "python3",
      "display_name": "Python 3"
    },
    "accelerator": "GPU"
  },
  "cells": [
    {
      "cell_type": "markdown",
      "metadata": {
        "id": "view-in-github",
        "colab_type": "text"
      },
      "source": [
        "<a href=\"https://colab.research.google.com/github/endyleon/song-detecting/blob/master/detection_startSong_endSong.ipynb\" target=\"_parent\"><img src=\"https://colab.research.google.com/assets/colab-badge.svg\" alt=\"Open In Colab\"/></a>"
      ]
    },
    {
      "metadata": {
        "id": "iq4UzdFXaBkw",
        "colab_type": "code",
        "colab": {}
      },
      "cell_type": "code",
      "source": [
        "!pip install librosa\n",
        "!pip install auditok\n",
        "!pip install scipy\n",
        "!pip install pydub\n",
        "!pip install joblib\n",
        "!apt install ffmpeg\n"
      ],
      "execution_count": 0,
      "outputs": []
    },
    {
      "metadata": {
        "id": "9t3Qg-UsM5GC",
        "colab_type": "code",
        "colab": {}
      },
      "cell_type": "code",
      "source": [
        "!ffmpeg"
      ],
      "execution_count": 0,
      "outputs": []
    },
    {
      "metadata": {
        "id": "1gUdFmKwclh5",
        "colab_type": "code",
        "colab": {}
      },
      "cell_type": "code",
      "source": [
        "import wave\n",
        "import pickle\n",
        "import numpy as np\n",
        "#import ffmpeg\n",
        "import librosa\n",
        "from sklearn.mixture import GaussianMixture as GMM\n",
        "from auditok import DataValidator, ADSFactory, DataSource, StreamTokenizer, BufferAudioSource, player_for\n",
        "from pydub import AudioSegment\n",
        "from pydub.utils import which"
      ],
      "execution_count": 0,
      "outputs": []
    },
    {
      "metadata": {
        "id": "8oXLcu8bd3Rx",
        "colab_type": "code",
        "colab": {
          "base_uri": "https://localhost:8080/",
          "height": 122
        },
        "outputId": "5252b31a-384e-40e8-9b77-861f3a7d7baf"
      },
      "cell_type": "code",
      "source": [
        "from google.colab import drive\n",
        "drive.mount('/content/drive/')"
      ],
      "execution_count": 4,
      "outputs": [
        {
          "output_type": "stream",
          "text": [
            "Go to this URL in a browser: https://accounts.google.com/o/oauth2/auth?client_id=947318989803-6bn6qk8qdgf4n4g3pfee6491hc0brc4i.apps.googleusercontent.com&redirect_uri=urn%3Aietf%3Awg%3Aoauth%3A2.0%3Aoob&scope=email%20https%3A%2F%2Fwww.googleapis.com%2Fauth%2Fdocs.test%20https%3A%2F%2Fwww.googleapis.com%2Fauth%2Fdrive%20https%3A%2F%2Fwww.googleapis.com%2Fauth%2Fdrive.photos.readonly%20https%3A%2F%2Fwww.googleapis.com%2Fauth%2Fpeopleapi.readonly&response_type=code\n",
            "\n",
            "Enter your authorization code:\n",
            "··········\n",
            "Mounted at /content/drive/\n"
          ],
          "name": "stdout"
        }
      ]
    },
    {
      "metadata": {
        "id": "rQp_9utOieY6",
        "colab_type": "code",
        "colab": {
          "base_uri": "https://localhost:8080/",
          "height": 51
        },
        "outputId": "093370fa-2122-45f2-c4c4-67efb00bd6bb"
      },
      "cell_type": "code",
      "source": [
        "!ls \"/content/drive/My Drive/app\""
      ],
      "execution_count": 5,
      "outputs": [
        {
          "output_type": "stream",
          "text": [
            "Chromaprint_proof.ipynb  detection_startSong_endSong.ipynb\n",
            "data-audios\t\t Proof_colab_gpu.ipynb\n"
          ],
          "name": "stdout"
        }
      ]
    },
    {
      "metadata": {
        "id": "Z4gfSoNCc7LP",
        "colab_type": "code",
        "colab": {}
      },
      "cell_type": "code",
      "source": [
        "def extract_mfcc(signal, sr=16000, n_mfcc=16, n_fft=256, hop_length=128, n_mels = 40, delta_1 = False, delta_2 = False):\n",
        "    \n",
        "    mfcc = librosa.feature.mfcc(y=signal, sr=sr, n_mfcc=n_mfcc, n_fft=n_fft, hop_length=hop_length, n_mels=n_mels)\n",
        "    \n",
        "    if not (delta_1 or delta_2):\n",
        "        return mfcc.T\n",
        "    \n",
        "    feat = [mfcc]\n",
        "    \n",
        "    if delta_1:\n",
        "        mfcc_delta_1 = librosa.feature.delta(mfcc, order=1)\n",
        "        feat.append(mfcc_delta_1)\n",
        "    \n",
        "    if delta_2:\n",
        "        mfcc_delta_2 = librosa.feature.delta(mfcc, order=2)\n",
        "        feat.append(mfcc_delta_2)\n",
        "        \n",
        "    return np.vstack(feat).T\n",
        "\n",
        "\n",
        "def file_to_mfcc(filename, sr=16000, **kwargs):\n",
        "    \n",
        "    signal, sr = librosa.load(filename, sr = sr)\n",
        "    \n",
        "    return extract_mfcc(signal, sr, **kwargs)"
      ],
      "execution_count": 0,
      "outputs": []
    },
    {
      "metadata": {
        "id": "vJa6mWfNdA-3",
        "colab_type": "code",
        "colab": {}
      },
      "cell_type": "code",
      "source": [
        "class GMMClassifier():\n",
        "    \n",
        "    def __init__(self, models):\n",
        "        \"\"\"\n",
        "        models is a dictionary: {\"class_of_sound\" : GMM_model_for_that_class, ...}\n",
        "        \"\"\"        \n",
        "        self.models = models\n",
        "    \n",
        "    def predict(self, data):\n",
        "        \n",
        "        result = []\n",
        "        for cls in self.models:\n",
        "            \n",
        "            llk = self.models[cls].score_samples(data)[0]\n",
        "            llk = np.sum(llk)\n",
        "            result.append((cls, llk)) \n",
        "        \n",
        "        \"\"\"\n",
        "        return classification result as a sorted list of tuples (\"class_of_sound\", log_likelihood)\n",
        "        best class is the first element in the list\n",
        "        \"\"\"\n",
        "        return sorted(result, key=lambda f: - f[1])"
      ],
      "execution_count": 0,
      "outputs": []
    },
    {
      "metadata": {
        "id": "650OcTLJdGY2",
        "colab_type": "code",
        "colab": {}
      },
      "cell_type": "code",
      "source": [
        "class ClassifierValidator(DataValidator):\n",
        "    \n",
        "    def __init__(self, classifier, target):\n",
        "        \"\"\"\n",
        "        classifier: a GMMClassifier object\n",
        "        target: string\n",
        "        \"\"\"\n",
        "        self.classifier = classifier\n",
        "        self.target = target\n",
        "        \n",
        "    def is_valid(self, data):\n",
        "        \n",
        "        r = self.classifier.predict(data)\n",
        "        return r[0][0] == self.target"
      ],
      "execution_count": 0,
      "outputs": []
    },
    {
      "metadata": {
        "id": "ikdXEBwcdIYX",
        "colab_type": "code",
        "colab": {}
      },
      "cell_type": "code",
      "source": [
        "class VectorDataSource(DataSource):\n",
        "     \n",
        "    def __init__(self, data, scope=0):\n",
        "        self.scope = scope\n",
        "        self._data = data\n",
        "        self._current = 0\n",
        "    \n",
        "    def read(self):\n",
        "        if self._current >= len(self._data):\n",
        "            return None\n",
        "        \n",
        "        start = self._current - self.scope\n",
        "        if start < 0:\n",
        "            start = 0\n",
        "            \n",
        "        end = self._current + self.scope + 1\n",
        "        \n",
        "        self._current += 1\n",
        "        return self._data[start : end]\n",
        "    \n",
        "    def set_scope(self, scope):\n",
        "        self.scope = scope\n",
        "            \n",
        "    def rewind(self):\n",
        "        self._current = 0"
      ],
      "execution_count": 0,
      "outputs": []
    },
    {
      "metadata": {
        "id": "NAAlyOSkdTi-",
        "colab_type": "code",
        "colab": {}
      },
      "cell_type": "code",
      "source": [
        "\"\"\"\n",
        "Size of audio window for which MFCC coefficients are calculated\n",
        "\"\"\"\n",
        "ANALYSIS_WINDOW = 0.02 # 0.02 second = 20 ms\n",
        "\n",
        "\"\"\"\n",
        "Step of ANALYSIS_WINDOW \n",
        "\"\"\"\n",
        "ANALYSIS_STEP = 0.01 # 0.01 second overlap between consecutive windows\n",
        "\n",
        "\"\"\"\n",
        "number of vectors around the current vector to return.\n",
        "This will cause VectorDataSource.read() method to return\n",
        "a sequence of (SCOPE_LENGTH * 2 + 1) vectors (if enough\n",
        "data is available), with the current vetor in the middle\n",
        "\"\"\"\n",
        "SCOPE_LENGTH = 10\n",
        "\n",
        "\"\"\"\n",
        "Number of Mel filters\n",
        "\"\"\"\n",
        "MEL_FILTERS = 40\n",
        "\n",
        "\"\"\"\n",
        "Number of MFCC coefficients to keep\n",
        "\"\"\"\n",
        "N_MFCC = 16\n",
        "\n",
        "\"\"\"\n",
        "Sampling rate of audio data\n",
        "\"\"\"\n",
        "SAMPLING_RATE = 16000\n",
        "\n",
        "\"\"\"\n",
        "ANALYSIS_WINDOW and ANALYSIS_STEP as number of samples\n",
        "\"\"\"\n",
        "BLOCK_SIZE = int(SAMPLING_RATE * ANALYSIS_WINDOW)\n",
        "HOP_SIZE = int(SAMPLING_RATE * ANALYSIS_STEP)\n",
        "\n",
        "\"\"\"\n",
        "Compute delta and delta-delta of MFCC coefficients ?\n",
        "\"\"\"\n",
        "DELTA_1 = True\n",
        "DELTA_2 = True\n",
        "\n",
        "\"\"\"\n",
        "Where to find data\n",
        "\n",
        "/content/drive/\n",
        "\"\"\"\n",
        "PREFIX_TRAINING = \"/content/drive/My Drive/app/data-audios/data_/train_/\"\n",
        "PREFIX_AUDIO_BLOCK = \"/content/drive/My Drive/app/data-audios/audio-block/\""
      ],
      "execution_count": 0,
      "outputs": []
    },
    {
      "metadata": {
        "id": "glgoofOgnvEo",
        "colab_type": "code",
        "colab": {}
      },
      "cell_type": "code",
      "source": [
        " "
      ],
      "execution_count": 0,
      "outputs": []
    },
    {
      "metadata": {
        "id": "Ormx9TAgemrP",
        "colab_type": "code",
        "outputId": "9aef9e76-f853-41da-d911-95cfc8f68da3",
        "colab": {
          "base_uri": "https://localhost:8080/",
          "height": 51
        }
      },
      "cell_type": "code",
      "source": [
        "train_data = {}\n",
        "train_data[\"start\"] = [\"ini_1.wav\", \"ini_2.wav\", \"ini_3.wav\", \"ini_4.wav\", \"ini_5.wav\", \"ini_6.wav\", \"ini_7.wav\", \"ini_8.wav\", \"ini_9.wav\", \"ini_10.wav\", \"ini_11.wav\", \"ini_12.wav\", \"ini_13.wav\", \"ini_14.wav\", \"ini_15.wav\", \"ini_16.wav\"]\n",
        "train_data[\"end\"]  = [\"end_1.wav\", \"end_2.wav\", \"end_3.wav\", \"end_4.wav\", \"end_5.wav\", \"end_6.wav\", \"end_7.wav\", \"end_8.wav\", \"end_9.wav\", \"end_10.wav\", \"end_11.wav\", \"end_12.wav\", \"end_13.wav\", \"end_14.wav\", \"end_15.wav\"]\n",
        "#train_data[\"middle\"]  = [\"midd_1.wav\", \"midd_2.wav\", \"midd_3.wav\", \"midd_4.wav\", \"midd_5.wav\"]\n",
        "\n",
        "\n",
        "models = {}\n",
        "\n",
        "# build models\n",
        "for cls in train_data:\n",
        "\n",
        "    data = []\n",
        "    for fname in train_data[cls]:\n",
        "        data.append(file_to_mfcc(PREFIX_TRAINING + fname, sr=16000, n_mfcc=N_MFCC, n_fft=BLOCK_SIZE, hop_length=HOP_SIZE, n_mels=MEL_FILTERS, delta_1=DELTA_1, delta_2=DELTA_2))\n",
        "\n",
        "    data = np.vstack(data)\n",
        "    \n",
        "    print(\"Class '{0}': {1} training vectors\".format(cls, data.shape[0]))\n",
        "\n",
        "    mod = GMM(n_components=10)\n",
        "    mod.fit(data)\n",
        "    models[cls] = mod\n",
        "\n",
        "gmm_classifier = GMMClassifier(models)\n",
        "\n",
        "# create a validator for each sound class\n",
        "start_validator = ClassifierValidator(gmm_classifier,\"start\")\n",
        "end_validator = ClassifierValidator(gmm_classifier, \"end\")\n",
        "#middle_validator = ClassifierValidator(gmm_classifier, \"middle\")"
      ],
      "execution_count": 11,
      "outputs": [
        {
          "output_type": "stream",
          "text": [
            "Class 'start': 16016 training vectors\n",
            "Class 'end': 15015 training vectors\n"
          ],
          "name": "stdout"
        }
      ]
    },
    {
      "metadata": {
        "id": "u_NTqVIrKCWe",
        "colab_type": "code",
        "outputId": "d0eebaff-a001-46c9-b2a2-cb26aaba0140",
        "colab": {
          "base_uri": "https://localhost:8080/",
          "height": 119
        }
      },
      "cell_type": "code",
      "source": [
        "!ls \"/content/drive/My Drive/app/data-audios/audio-block\""
      ],
      "execution_count": 12,
      "outputs": [
        {
          "output_type": "stream",
          "text": [
            "cheat-codes-feels-great-ft-fetty-wap-cvbz-official-video.mp3\n",
            "lisandro-cuxi-danser.mp3\n",
            "lisandro-cuxi-danser.wav\n",
            "louis-tomlinson-back-to-you-official-video-ft-bebe-rexha-digital-farm-animals.mp3\n",
            "taylor-swift-look-what-you-made-me-do.mp3\n",
            "taylor-swift-look-what-you-made-me-do.wav\n"
          ],
          "name": "stdout"
        }
      ]
    },
    {
      "metadata": {
        "id": "GioIaKX0HBN0",
        "colab_type": "code",
        "outputId": "b51b0f68-cee2-4fd0-d0cc-06c44a9a6931",
        "colab": {
          "base_uri": "https://localhost:8080/",
          "height": 34
        }
      },
      "cell_type": "code",
      "source": [
        "name_sound = '/content/drive/My Drive/app/data-audios/audio-block/taylor-swift-look-what-you-made-me-do.wav'\n",
        "name_sound_mp3 = '/content/drive/My Drive/app/data-audios/audio-block/taylor-swift-look-what-you-made-me-do.mp3'\n",
        "AudioSegment.converter =which('ffmpeg')\n",
        "sound = AudioSegment.from_file(name_sound_mp3, format = 'mp3')\n",
        "sound.export(name_sound, format = 'wav')"
      ],
      "execution_count": 13,
      "outputs": [
        {
          "output_type": "execute_result",
          "data": {
            "text/plain": [
              "<_io.BufferedRandom name='/content/drive/My Drive/app/data-audios/audio-block/taylor-swift-look-what-you-made-me-do.wav'>"
            ]
          },
          "metadata": {
            "tags": []
          },
          "execution_count": 13
        }
      ]
    },
    {
      "metadata": {
        "id": "rQHYJXAIkMfw",
        "colab_type": "code",
        "colab": {}
      },
      "cell_type": "code",
      "source": [
        "# transform audio stream to be analyzed into a sequence of MFCC vectors\n",
        "# create a DataSource object using MFCC vectors\n",
        "#name_sound = PREFIX_AUDIO_BLOCK + 'louis-tomlinson-back-to-you-official-video-ft-bebe-rexha-digital-farm-animals.wav'\n",
        "mfcc_data_source = VectorDataSource(data=file_to_mfcc(name_sound,\n",
        "                                                      sr=16000, n_mfcc=N_MFCC,\n",
        "                                                      n_fft=BLOCK_SIZE, hop_length=HOP_SIZE,\n",
        "                                                      n_mels=MEL_FILTERS, delta_1=DELTA_1,\n",
        "                                                      delta_2=DELTA_2), scope=SCOPE_LENGTH)"
      ],
      "execution_count": 0,
      "outputs": []
    },
    {
      "metadata": {
        "id": "uF7OHrA7oG_F",
        "colab_type": "code",
        "colab": {}
      },
      "cell_type": "code",
      "source": [
        "# create a tokenizer\n",
        "analysis_window_per_second = 1. / ANALYSIS_STEP\n",
        "\n",
        "min_seg_length = 0.5 # second, min length of an accepted audio segment\n",
        "max_seg_length = 10 # seconds, max length of an accepted audio segment\n",
        "max_silence = 0.3 # second, max length tolerated of tolerated continuous signal that's not from the same class\n",
        "\n",
        "tokenizer = StreamTokenizer(validator=start_validator, min_length=int(min_seg_length * analysis_window_per_second),\n",
        "                                max_length=int(max_seg_length * analysis_window_per_second),\n",
        "                                max_continuous_silence= max_silence * analysis_window_per_second,\n",
        "                                mode = StreamTokenizer.DROP_TRAILING_SILENCE)"
      ],
      "execution_count": 0,
      "outputs": []
    },
    {
      "metadata": {
        "id": "mswFJPqPoQln",
        "colab_type": "code",
        "colab": {}
      },
      "cell_type": "code",
      "source": [
        "# read all audio data from stream\n",
        "wfp = wave.open(name_sound)\n",
        "audio_data = wfp.readframes(-1)\n",
        "width = wfp.getsampwidth()\n",
        "wfp.close()\n",
        "\n",
        "# data as numpy array will be used to plot signal\n",
        "fmt = {1: np.int8 , 2: np.int16, 4: np.int32}\n",
        "signal = np.array(np.frombuffer(audio_data, dtype=fmt[width]), dtype=np.float64)"
      ],
      "execution_count": 0,
      "outputs": []
    },
    {
      "metadata": {
        "id": "YynNY-C4oUUI",
        "colab_type": "code",
        "colab": {}
      },
      "cell_type": "code",
      "source": [
        "%matplotlib inline\n",
        "import matplotlib.pyplot as plt\n",
        "import matplotlib.pylab as pylab\n",
        "pylab.rcParams['figure.figsize'] = 20, 10\n",
        "\n",
        "def plot_signal_and_segmentation(signal, sampling_rate, segments=[]):\n",
        "    _time = np.arange(0., np.ceil(float(len(signal))) / sampling_rate, 1./sampling_rate )\n",
        "    if len(_time) > len(signal):\n",
        "        _time = _time[: len(signal) - len(_time)]\n",
        "    \n",
        "    pylab.subplot(211)\n",
        "\n",
        "    for seg in segments:\n",
        "        \n",
        "        fc = seg.get(\"fc\", \"g\")\n",
        "        ec = seg.get(\"ec\", \"b\")\n",
        "        lw = seg.get(\"lw\", 2)\n",
        "        alpha = seg.get(\"alpha\", 0.4)\n",
        "        \n",
        "        ts = seg[\"timestamps\"]\n",
        "        \n",
        "        # plot first segmentation outside loop to show one single legend for this class\n",
        "        p = pylab.axvspan(ts[0][0], ts[0][1], fc=fc, ec=ec, lw=lw, alpha=alpha, label = seg.get(\"title\", \"\"))\n",
        "        \n",
        "        for start, end in ts[1:]:\n",
        "            p = pylab.axvspan(start, end, fc=fc, ec=ec, lw=lw, alpha=alpha)\n",
        "            \n",
        "            \n",
        "    pylab.legend(bbox_to_anchor=(0., 1.02, 1., .102), loc=3,\n",
        "            borderaxespad=0., fontsize=22, ncol=2)\n",
        "    \n",
        "    pylab.plot(_time, signal)\n",
        "    \n",
        "    pylab.xlabel(\"Time (s)\", fontsize=22)\n",
        "    pylab.ylabel(\"Signal Amplitude\", fontsize=22)\n",
        "    pylab.show()"
      ],
      "execution_count": 0,
      "outputs": []
    },
    {
      "metadata": {
        "id": "nEa43XxtP19X",
        "colab_type": "code",
        "colab": {}
      },
      "cell_type": "code",
      "source": [
        "tokenizer = StreamTokenizer(validator=end_validator, min_length= int(0.5 * analysis_window_per_second),\n",
        "                                max_length=int(10 * analysis_window_per_second),\n",
        "                                max_continuous_silence= 0.3 * analysis_window_per_second,\n",
        "                                mode = StreamTokenizer.DROP_TRAILING_SILENCE)\n",
        "#tokenizer.validator = end_validator\n",
        "mfcc_data_source.rewind()\n",
        "mfcc_data_source.scope = 0\n",
        "tokens = tokenizer.tokenize(mfcc_data_source)\n",
        "ts = [(t[1] * ANALYSIS_STEP, t[2] * ANALYSIS_STEP) for t in tokens]\n",
        "\n",
        "seg = {\"fc\" : \"g\", \"ec\" : \"g\", \"lw\" : 0, \"alpha\" : 0.8, \"title\" : \"End (auto)\", \"timestamps\" : ts}\n",
        "\n",
        "plot_signal_and_segmentation(signal, SAMPLING_RATE, [seg])"
      ],
      "execution_count": 0,
      "outputs": []
    },
    {
      "metadata": {
        "id": "MM-HAGAzocvI",
        "colab_type": "code",
        "outputId": "b9ee06e6-4020-4b37-8887-89247834b033",
        "colab": {
          "base_uri": "https://localhost:8080/",
          "height": 364
        }
      },
      "cell_type": "code",
      "source": [
        "segments = []\n",
        "mfcc_data_source.scope = 25\n",
        "\n",
        "#Start    \n",
        "mfcc_data_source.rewind()\n",
        "tokenizer.validator = start_validator\n",
        "tokens = tokenizer.tokenize(mfcc_data_source)\n",
        "start_ts = [(t[1] * ANALYSIS_STEP, t[2] * ANALYSIS_STEP) for t in tokens]\n",
        "seg = {\"fc\":\"r\", \"ec\":\"r\", \"lw\":0, \"alpha\":0.4, \"title\":\"Start-song\", \"timestamps\":start_ts }\n",
        "segments.append(seg)\n",
        "\n",
        "'''\n",
        "#End\n",
        "mfcc_data_source.rewind()\n",
        "tokenizer.validator = end_validator\n",
        "tokens = tokenizer.tokenize(mfcc_data_source)\n",
        "end_ts = [(t[1] * ANALYSIS_STEP, t[2] * ANALYSIS_STEP) for t in tokens]\n",
        "seg = {\"fc\":\"m\", \"ec\":\"m\", \"lw\":0, \"alpha\":0.4, \"title\":\"End-song\", \"timestamps\":end_ts }\n",
        "segments.append(seg)\n",
        "''' \n",
        "\n",
        "plot_signal_and_segmentation(signal, SAMPLING_RATE, segments)"
      ],
      "execution_count": 18,
      "outputs": [
        {
          "output_type": "display_data",
          "data": {
            "image/png": "[encoded data removed]",
            "text/plain": [
              "<matplotlib.figure.Figure at 0x7f2d4194d748>"
            ]
          },
          "metadata": {
            "tags": []
          }
        }
      ]
    },
    {
      "metadata": {
        "id": "sg0i2rnmbZjY",
        "colab_type": "code",
        "colab": {
          "base_uri": "https://localhost:8080/",
          "height": 364
        },
        "outputId": "228d75fa-b33a-416b-ad02-b3272232abf6"
      },
      "cell_type": "code",
      "source": [
        "segments = []\n",
        "mfcc_data_source.scope = 25\n",
        "\n",
        "#End\n",
        "mfcc_data_source.rewind()\n",
        "tokenizer.validator = end_validator\n",
        "tokens = tokenizer.tokenize(mfcc_data_source)\n",
        "end_ts = [(t[1] * ANALYSIS_STEP, t[2] * ANALYSIS_STEP) for t in tokens]\n",
        "seg = {\"fc\":\"m\", \"ec\":\"m\", \"lw\":0, \"alpha\":0.4, \"title\":\"End-song\", \"timestamps\":end_ts }\n",
        "segments.append(seg)\n",
        "\n",
        "plot_signal_and_segmentation(signal, SAMPLING_RATE, segments)"
      ],
      "execution_count": 22,
      "outputs": [
        {
          "output_type": "display_data",
          "data": {
            "image/png": "[encoded data removed]",
            "text/plain": [
              "<matplotlib.figure.Figure at 0x7f2d35e379b0>"
            ]
          },
          "metadata": {
            "tags": []
          }
        }
      ]
    },
    {
      "metadata": {
        "id": "KtxlCOkRZPZU",
        "colab_type": "code",
        "colab": {}
      },
      "cell_type": "code",
      "source": [
        "''' \n",
        "segments = []\n",
        "mfcc_data_source.scope = 25\n",
        "\n",
        "#Middle\n",
        "mfcc_data_source.rewind()\n",
        "tokenizer.validator = middle_validator\n",
        "tokens = tokenizer.tokenize(mfcc_data_source)\n",
        "mid_ts = [(t[1] * ANALYSIS_STEP, t[2] * ANALYSIS_STEP) for t in tokens]\n",
        "seg = {\"fc\":\"g\", \"ec\":\"g\", \"lw\":0, \"alpha\":0.3, \"title\":\"Middle-song\", \"timestamps\":mid_ts }\n",
        "segments.append(seg)\n",
        "\n",
        "\n",
        "plot_signal_and_segmentation(signal, SAMPLING_RATE, segments)\n",
        "'''"
      ],
      "execution_count": 0,
      "outputs": []
    }
  ]
}